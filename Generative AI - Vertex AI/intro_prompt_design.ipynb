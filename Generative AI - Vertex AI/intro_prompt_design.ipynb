{
 "cells": [
  {
   "cell_type": "markdown",
   "metadata": {
    "id": "JAPoU8Sm5E6e"
   },
   "source": [
    "# Prompt Design - Best Practices"
   ]
  },
  {
   "cell_type": "markdown",
   "metadata": {
    "id": "tvgnzT1CKxrO"
   },
   "source": [
    "## Overview\n",
    "\n",
    "Notebook covers the essentials of prompt engineering, including some best practices.\n",
    "\n",
    "Learn more about prompt design in the [official documentation](https://cloud.google.com/vertex-ai/docs/generative-ai/text/text-overview).\n",
    "\n",
    "Learn best practices around prompt engineering -- how to design prompts to improve the quality of your responses.\n",
    "\n",
    "This notebook covers the following best practices for prompt engineering:\n",
    "\n",
    "- Be concise\n",
    "- Be specific and well-defined\n",
    "- Ask one task at a time\n",
    "- Turn generative tasks into classification tasks\n",
    "- Improve response quality by including examples"
   ]
  },
  {
   "cell_type": "markdown",
   "metadata": {
    "id": "61RBz8LLbxCR"
   },
   "source": [
    "## Getting Started"
   ]
  },
  {
   "cell_type": "markdown",
   "metadata": {
    "id": "No17Cw5hgx12"
   },
   "source": [
    "### Install Google Gen AI SDK\n"
   ]
  },
  {
   "cell_type": "code",
   "execution_count": 1,
   "metadata": {
    "id": "tFy3H3aPgx12",
    "tags": []
   },
   "outputs": [
    {
     "name": "stdout",
     "output_type": "stream",
     "text": [
      "\n",
      "\u001b[1m[\u001b[0m\u001b[34;49mnotice\u001b[0m\u001b[1;39;49m]\u001b[0m\u001b[39;49m A new release of pip is available: \u001b[0m\u001b[31;49m25.0\u001b[0m\u001b[39;49m -> \u001b[0m\u001b[32;49m25.0.1\u001b[0m\n",
      "\u001b[1m[\u001b[0m\u001b[34;49mnotice\u001b[0m\u001b[1;39;49m]\u001b[0m\u001b[39;49m To update, run: \u001b[0m\u001b[32;49mpip install --upgrade pip\u001b[0m\n",
      "Note: you may need to restart the kernel to use updated packages.\n"
     ]
    }
   ],
   "source": [
    "%pip install --upgrade --quiet google-genai"
   ]
  },
  {
   "cell_type": "markdown",
   "metadata": {
    "id": "R5Xep4W9lq-Z"
   },
   "source": [
    "### Restart runtime\n",
    "\n",
    "To use the newly installed packages in this Jupyter runtime, you must restart the runtime. You can do this by running the cell below, which will restart the current kernel."
   ]
  },
  {
   "cell_type": "code",
   "execution_count": 2,
   "metadata": {
    "id": "XRvKdaPDTznN",
    "tags": []
   },
   "outputs": [
    {
     "data": {
      "text/plain": [
       "{'status': 'ok', 'restart': True}"
      ]
     },
     "execution_count": 2,
     "metadata": {},
     "output_type": "execute_result"
    }
   ],
   "source": [
    "import IPython\n",
    "\n",
    "app = IPython.Application.instance()\n",
    "app.kernel.do_shutdown(True)"
   ]
  },
  {
   "cell_type": "markdown",
   "metadata": {
    "id": "SbmM4z7FOBpM"
   },
   "source": [
    "<div class=\"alert alert-block alert-warning\">\n",
    "<b>⚠️ The kernel is going to restart. Please wait until it is finished before continuing to the next step. ⚠️</b>\n",
    "</div>\n"
   ]
  },
  {
   "cell_type": "markdown",
   "metadata": {
    "id": "dmWOrTJ3gx13"
   },
   "source": [
    "### Authenticate your notebook environment (Colab only)\n",
    "\n",
    "Authenticate your environment on Google Colab.\n"
   ]
  },
  {
   "cell_type": "code",
   "execution_count": 1,
   "metadata": {
    "id": "NyKGtVQjgx13",
    "tags": []
   },
   "outputs": [],
   "source": [
    "import sys\n",
    "\n",
    "if \"google.colab\" in sys.modules:\n",
    "    from google.colab import auth\n",
    "\n",
    "    auth.authenticate_user()"
   ]
  },
  {
   "cell_type": "markdown",
   "metadata": {
    "id": "06489bd14f16"
   },
   "source": [
    "### Import libraries\n"
   ]
  },
  {
   "cell_type": "code",
   "execution_count": 2,
   "metadata": {
    "id": "154137022fb6",
    "tags": []
   },
   "outputs": [],
   "source": [
    "from IPython.display import Markdown, display\n",
    "from google import genai\n",
    "from google.genai.types import GenerateContentConfig"
   ]
  },
  {
   "cell_type": "markdown",
   "metadata": {
    "id": "DF4l8DTdWgPY"
   },
   "source": [
    "### Set Google Cloud project information and create client\n",
    "\n",
    "To get started using Vertex AI, you must have an existing Google Cloud project and [enable the Vertex AI API](https://console.cloud.google.com/flows/enableapi?apiid=aiplatform.googleapis.com).\n",
    "\n",
    "Learn more about [setting up a project and a development environment](https://cloud.google.com/vertex-ai/docs/start/cloud-environment)."
   ]
  },
  {
   "cell_type": "code",
   "execution_count": null,
   "metadata": {
    "id": "Nqwi-5ufWp_B",
    "tags": []
   },
   "outputs": [],
   "source": [
    "import os\n",
    "\n",
    "PROJECT_ID = \"[------]\"  # @param {type: \"string\", placeholder: \"[your-project-id]\", isTemplate: true}\n",
    "if not PROJECT_ID or PROJECT_ID == \"[------]\":\n",
    "    PROJECT_ID = str(os.environ.get(\"GOOGLE_CLOUD_PROJECT\"))\n",
    "\n",
    "LOCATION = os.environ.get(\"GOOGLE_CLOUD_REGION\", \"us-east1\")"
   ]
  },
  {
   "cell_type": "code",
   "execution_count": 4,
   "metadata": {
    "id": "QqRWdPGmW3NJ",
    "tags": []
   },
   "outputs": [],
   "source": [
    "client = genai.Client(vertexai=True, project=PROJECT_ID, location=LOCATION)"
   ]
  },
  {
   "cell_type": "markdown",
   "metadata": {
    "id": "OnFPpCRtXRl4"
   },
   "source": [
    "### Load model\n",
    "\n",
    "Learn more about all [Gemini models on Vertex AI](https://cloud.google.com/vertex-ai/generative-ai/docs/learn/models#gemini-models)."
   ]
  },
  {
   "cell_type": "code",
   "execution_count": 5,
   "metadata": {
    "id": "IQYu_9SvXQah",
    "tags": []
   },
   "outputs": [],
   "source": [
    "MODEL_ID = \"gemini-2.0-flash-001\"  # @param {type: \"string\"}"
   ]
  },
  {
   "cell_type": "markdown",
   "metadata": {
    "id": "cVOtUNJ5X0PY"
   },
   "source": [
    "## Prompt engineering best practices"
   ]
  },
  {
   "cell_type": "markdown",
   "metadata": {
    "id": "uv_e0fEPX60q"
   },
   "source": [
    "Prompt engineering is all about how to design your prompts so that the response is what you were indeed hoping to see.\n",
    "\n",
    "The idea of using \"unfancy\" prompts is to minimize the noise in your prompt to reduce the possibility of the LLM misinterpreting the intent of the prompt. Below are a few guidelines on how to engineer \"unfancy\" prompts.\n",
    "\n",
    "In this section, you'll cover the following best practices when engineering prompts:\n",
    "\n",
    "* Be concise\n",
    "* Be specific, and well-defined\n",
    "* Ask one task at a time\n",
    "* Improve response quality by including examples\n",
    "* Turn generative tasks to classification tasks to improve safety"
   ]
  },
  {
   "cell_type": "markdown",
   "metadata": {
    "id": "0pY4XX0OX9_Y"
   },
   "source": [
    "### Be concise"
   ]
  },
  {
   "cell_type": "markdown",
   "metadata": {
    "id": "xlRpxyxGYA1K"
   },
   "source": [
    "🛑 Not recommended. The prompt below is unnecessarily verbose."
   ]
  },
  {
   "cell_type": "code",
   "execution_count": 6,
   "metadata": {
    "id": "YKV4G-CfXdbi",
    "tags": []
   },
   "outputs": [
    {
     "data": {
      "text/markdown": [
       "Okay, here are some name ideas for a dried flower shop, playing on different angles:\n",
       "\n",
       "**Emphasizing Dried/Preserved Nature:**\n",
       "\n",
       "*   **The Evergreen Bloom:** (Classic, highlights lasting beauty)\n",
       "*   **Timeless Petals:** (Focuses on enduring quality)\n",
       "*   **Lasting Lilies:** (More specific, but catchy)\n",
       "*   **The Preserved Posy:** (Cute and descriptive)\n",
       "*   **Golden Bloom:** (Evokes the color and longevity)\n",
       "*   **The Dried Delight:** (Simple and appealing)\n",
       "*   **Eternal Blooms:** (Elegant and hints at forever)\n",
       "*   **Immortelle:** (The French word for everlasting flower, sophisticated)\n",
       "*   **The Stilling Fields:** (More poetic, evokes a sense of tranquility)\n",
       "\n",
       "**Emphasizing Beauty & Artistry:**\n",
       "\n",
       "*   **The Wildflower Weaver:** (Suggests a natural and crafted aesthetic)\n",
       "*   **The Bloom Alchemist:** (Playful, suggests transformation)\n",
       "*   **Dust & Bloom:** (Modern, a bit edgy, contrast of textures)\n",
       "*   **The Floral Gallery:** (Positions the bouquets as art pieces)\n",
       "*   **The Petal Palette:** (Highlights the range of colors and textures)\n",
       "*   **Gather & Gold:** (Evokes rustic beauty and elegance)\n",
       "*   **The Still Life Studio:** (Emphasizes artistic composition)\n",
       "\n",
       "**Emphasizing Craft & Uniqueness:**\n",
       "\n",
       "*   **The Botanical Curator:** (Highlights the selection of unique flowers)\n",
       "*   **The Meadow Maker:** (Suggests creating a natural scene)\n",
       "*   **The Floral Smithy:** (Plays on the idea of crafting with flowers)\n",
       "*   **The Gathered Stem:** (Simple, suggests hand-picked quality)\n",
       "*   **Paper Petals:** (If you work with some paper or other material alongside dried flowers)\n",
       "*   **The Seedling Studio:** (A nice alliterative name for a botanical studio)\n",
       "\n",
       "**Modern & Minimalist:**\n",
       "\n",
       "*   **Bloom Theory:** (Sounds intellectual and stylish)\n",
       "*   **Dried:** (Simple and direct)\n",
       "*   **The Still Room:** (Quiet, calming, and intriguing)\n",
       "*   **Petal & Stem:** (Classic but clean)\n",
       "*   **Everdry:** (A play on words)\n",
       "\n",
       "**Tips for Choosing:**\n",
       "\n",
       "*   **Consider your brand:** What feeling do you want to evoke?  Elegant, rustic, modern?\n",
       "*   **Check availability:** Make sure the name isn't already in use (website domain, social media handles).\n",
       "*   **Say it out loud:** Does it sound good? Is it easy to remember?\n",
       "*   **Get feedback:** Ask friends and family what they think.\n",
       "\n",
       "I hope this gives you a good starting point! Good luck!\n"
      ],
      "text/plain": [
       "<IPython.core.display.Markdown object>"
      ]
     },
     "metadata": {},
     "output_type": "display_data"
    }
   ],
   "source": [
    "prompt = \"What do you think could be a good name for a flower shop that specializes in selling bouquets of dried flowers more than fresh flowers?\"\n",
    "\n",
    "response = client.models.generate_content(model=MODEL_ID, contents=prompt)\n",
    "display(Markdown(response.text))"
   ]
  },
  {
   "cell_type": "markdown",
   "metadata": {
    "id": "YrJexRHJYnmC"
   },
   "source": [
    "✅ Recommended. The prompt below is to the point and concise."
   ]
  },
  {
   "cell_type": "code",
   "execution_count": 7,
   "metadata": {
    "id": "VHetn9lCYrXB",
    "tags": []
   },
   "outputs": [
    {
     "data": {
      "text/markdown": [
       "Okay, here are some name suggestions for a dried flower shop, playing with different angles:\n",
       "\n",
       "**Classic & Elegant:**\n",
       "\n",
       "*   The Everlasting Bloom\n",
       "*   Dried Delights\n",
       "*   Petrified Petals\n",
       "*   Pressed Petals & Posies\n",
       "*   The Dried Garden\n",
       "*   The Botanical Still Life\n",
       "*   Golden Flora\n",
       "*   Amber Blooms\n",
       "\n",
       "**Modern & Chic:**\n",
       "\n",
       "*   Still Life Flowers\n",
       "*   Dry Goods Floral\n",
       "*   The Preserved Petal\n",
       "*   Dried & True\n",
       "*   Dust & Bloom\n",
       "*   Eternal Florals\n",
       "*   The Modern Herbarium\n",
       "*   Fossil Flowers\n",
       "\n",
       "**Whimsical & Playful:**\n",
       "\n",
       "*   The Dried Fairy Ring\n",
       "*   Petal Dust\n",
       "*   The Whispering Wildflower\n",
       "*   Forever Flowers\n",
       "*   Bloom Keeper\n",
       "*   The Time Capsule Bouquet\n",
       "\n",
       "**Location Specific (If Applicable):**\n",
       "\n",
       "*   (Your Town/Region) Dried Flowers\n",
       "*   (Landmark Nearby) Petals\n",
       "\n",
       "**Tips for Choosing:**\n",
       "\n",
       "*   **Availability:** Check if the name is available as a website domain and on social media.\n",
       "*   **Target Audience:** Consider who you're trying to reach (e.g., brides, home decor enthusiasts).\n",
       "*   **Memorability:**  Is it easy to remember and say?\n",
       "*   **Uniqueness:**  Does it stand out from other flower shops?\n",
       "*   **Brand Identity:** Does it align with the overall aesthetic and feel of your shop?\n",
       "\n",
       "Good luck!\n"
      ],
      "text/plain": [
       "<IPython.core.display.Markdown object>"
      ]
     },
     "metadata": {},
     "output_type": "display_data"
    }
   ],
   "source": [
    "prompt = \"Suggest a name for a flower shop that sells bouquets of dried flowers\"\n",
    "\n",
    "response = client.models.generate_content(model=MODEL_ID, contents=prompt)\n",
    "display(Markdown(response.text))"
   ]
  },
  {
   "cell_type": "markdown",
   "metadata": {
    "id": "eXTAvdOHY0OC"
   },
   "source": [
    "### Be specific, and well-defined"
   ]
  },
  {
   "cell_type": "markdown",
   "metadata": {
    "id": "FTH4GEIgY1dp"
   },
   "source": [
    "Suppose that you want to brainstorm creative ways to describe Earth."
   ]
  },
  {
   "cell_type": "markdown",
   "metadata": {
    "id": "o5BmXBiGY4KC"
   },
   "source": [
    "🛑 The prompt below might be a bit too generic (which is certainly OK if you'd like to ask a generic question!)"
   ]
  },
  {
   "cell_type": "code",
   "execution_count": 8,
   "metadata": {
    "id": "eHBaMvv7Y6mR",
    "tags": []
   },
   "outputs": [
    {
     "data": {
      "text/markdown": [
       "Okay, let's delve into the fascinating planet we call home: Earth! Here's a comprehensive overview:\n",
       "\n",
       "**Basic Facts:**\n",
       "\n",
       "*   **Name:** Earth (derived from the Old English word \"eorþe\" meaning ground or soil)\n",
       "*   **Type:** Terrestrial Planet (rocky)\n",
       "*   **Diameter:** Approximately 12,742 kilometers (7,918 miles)\n",
       "*   **Circumference:** Approximately 40,075 kilometers (24,901 miles)\n",
       "*   **Mass:** 5.97 x 10^24 kg\n",
       "*   **Density:** 5.514 g/cm³ (the densest planet in our solar system)\n",
       "*   **Orbit:** Third planet from the Sun\n",
       "*   **Distance from the Sun:** Approximately 149.6 million kilometers (93 million miles) - This distance is defined as 1 Astronomical Unit (AU).\n",
       "*   **Orbital Period (Year):** 365.25 days (This is why we have leap years)\n",
       "*   **Rotation Period (Day):** Approximately 23 hours, 56 minutes, and 4 seconds\n",
       "*   **Axial Tilt:** 23.5 degrees (This tilt is responsible for our seasons)\n",
       "*   **Atmosphere:** Primarily nitrogen (78%) and oxygen (21%), with small amounts of other gases like argon, carbon dioxide, and water vapor.\n",
       "*   **Surface:** About 71% covered by water (oceans, lakes, rivers, ice), 29% land (continents, islands)\n",
       "*   **Moons:** One natural satellite, the Moon (Luna)\n",
       "*   **Rings:** None\n",
       "*   **Magnetic Field:** Yes, a strong magnetic field that protects us from harmful solar radiation.\n",
       "*   **Temperature:** Varies widely, from extremes of -89.2°C (-128.6°F) to 56.7°C (134°F), depending on location and time of year.  The average surface temperature is around 15°C (59°F).\n",
       "\n",
       "**Key Features and Characteristics:**\n",
       "\n",
       "*   **Habitable Zone:** Earth resides within the Sun's habitable zone, a region where temperatures allow liquid water to exist on the surface. This is crucial for life as we know it.\n",
       "*   **Plate Tectonics:** Earth's surface is divided into several large, moving plates. The interactions between these plates cause earthquakes, volcanoes, and the formation of mountains and ocean trenches. Plate tectonics also plays a vital role in the carbon cycle, which helps regulate Earth's climate.\n",
       "*   **Liquid Water:** The abundance of liquid water is one of Earth's defining features. Water acts as a solvent, facilitating chemical reactions necessary for life, and it also helps regulate the planet's temperature.\n",
       "*   **Life:** Earth is the only known planet to harbor life. Life has evolved into a vast array of organisms, from microscopic bacteria to complex plants and animals.\n",
       "*   **Atmosphere:** Earth's atmosphere provides a protective shield from harmful solar radiation, regulates temperature through the greenhouse effect, and contains the oxygen that most living organisms need to breathe.\n",
       "*   **The Moon:** The Moon plays a role in stabilizing Earth's axial tilt, which helps maintain relatively stable seasons. It also influences tides.\n",
       "\n",
       "**Internal Structure:**\n",
       "\n",
       "Earth is composed of several layers:\n",
       "\n",
       "1.  **Inner Core:** A solid sphere made mostly of iron and nickel.  It's incredibly hot (around 5,200°C or 9,392°F) and under immense pressure.\n",
       "2.  **Outer Core:** A liquid layer, also primarily made of iron and nickel. The movement of molten iron in the outer core generates Earth's magnetic field.\n",
       "3.  **Mantle:** The thickest layer, making up about 84% of Earth's volume. It's a mostly solid, rocky layer, but it can flow slowly over long periods.\n",
       "4.  **Crust:** The outermost layer, a thin, solid layer composed of rock. There are two types of crust:\n",
       "    *   **Oceanic Crust:** Thinner and denser, composed mainly of basalt.\n",
       "    *   **Continental Crust:** Thicker and less dense, composed mainly of granite.\n",
       "\n",
       "**Geological Processes:**\n",
       "\n",
       "*   **Volcanism:** The eruption of molten rock (magma) onto the surface, creating volcanoes and other landforms.\n",
       "*   **Earthquakes:** Sudden releases of energy in the Earth's crust, caused by the movement of tectonic plates.\n",
       "*   **Weathering and Erosion:** The breakdown of rocks and minerals by physical and chemical processes, and the subsequent transport of these materials by wind, water, or ice.\n",
       "*   **Sedimentation:** The deposition of sediments (e.g., sand, silt, clay) to form sedimentary rocks.\n",
       "*   **Mountain Building (Orogeny):** The process of forming mountains, often through the collision of tectonic plates.\n",
       "\n",
       "**Earth's Climate:**\n",
       "\n",
       "*   Earth's climate is a complex system influenced by many factors, including solar radiation, atmospheric composition, ocean currents, and landforms.\n",
       "*   The greenhouse effect, caused by gases in the atmosphere that trap heat, is essential for keeping Earth warm enough to support life. However, an increase in greenhouse gas concentrations due to human activities is causing global warming and climate change.\n",
       "*   Climate change is leading to rising sea levels, more frequent and intense heatwaves, changes in precipitation patterns, and other significant impacts.\n",
       "\n",
       "**Interesting Facts:**\n",
       "\n",
       "*   Earth is not perfectly spherical; it's slightly flattened at the poles and bulging at the equator, a shape called an oblate spheroid.\n",
       "*   Earth's highest point is Mount Everest (8,848.86 meters or 29,031.7 feet above sea level).\n",
       "*   Earth's deepest point is the Challenger Deep in the Mariana Trench (approximately 10,929 meters or 35,853 feet below sea level).\n",
       "*   Earth is constantly bombarded by meteoroids, but most of them burn up in the atmosphere before reaching the surface.\n",
       "*   The Earth's magnetic field is not static; it changes over time, and the magnetic poles can even reverse direction.\n",
       "*   Humans have significantly altered Earth's surface and environment through activities such as agriculture, deforestation, urbanization, and pollution.\n",
       "\n",
       "**The Future of Earth:**\n",
       "\n",
       "*   The long-term future of Earth is tied to the evolution of the Sun. As the Sun ages, it will become brighter and hotter, eventually leading to the evaporation of Earth's oceans and the loss of its atmosphere.\n",
       "*   In the more immediate future, the fate of Earth's environment depends on human actions. Reducing greenhouse gas emissions, conserving resources, and protecting biodiversity are crucial for ensuring a sustainable future for our planet.\n",
       "\n",
       "I've tried to cover the major aspects of Earth.  Is there anything specific you'd like to know more about? For example, are you interested in:\n",
       "\n",
       "*   Earth's history?\n",
       "*   The impact of humans on Earth?\n",
       "*   Specific geological features?\n",
       "*   Earth's climate system in more detail?\n",
       "*   The search for life beyond Earth?\n",
       "*   Something else entirely?\n"
      ],
      "text/plain": [
       "<IPython.core.display.Markdown object>"
      ]
     },
     "metadata": {},
     "output_type": "display_data"
    }
   ],
   "source": [
    "prompt = \"Tell me about Earth\"\n",
    "\n",
    "response = client.models.generate_content(model=MODEL_ID, contents=prompt)\n",
    "display(Markdown(response.text))"
   ]
  },
  {
   "cell_type": "markdown",
   "metadata": {
    "id": "4iyvEbteZnFL"
   },
   "source": [
    "✅ Recommended. The prompt below is specific and well-defined."
   ]
  },
  {
   "cell_type": "code",
   "execution_count": 9,
   "metadata": {
    "id": "JQ80z8urZnne",
    "tags": []
   },
   "outputs": [
    {
     "data": {
      "text/markdown": [
       "Okay, here's a list of features that make Earth unique compared to other planets we know of, focusing on what makes it special and habitable:\n",
       "\n",
       "**Key Features Enabling Life:**\n",
       "\n",
       "*   **Liquid Water on the Surface:** This is arguably the most significant factor. Earth is the only known planet in our solar system with stable bodies of liquid water on its surface. Water is essential for all known life and acts as a solvent for biochemical reactions.\n",
       "*   **Oxygen-Rich Atmosphere:** Earth's atmosphere has a high concentration of free oxygen (around 21%), produced and maintained by photosynthetic organisms. While traces of oxygen might exist elsewhere, Earth's levels are unique and crucial for complex life.\n",
       "*   **Plate Tectonics:** The Earth's crust is divided into plates that move and interact. This process recycles nutrients, regulates the carbon cycle, and creates diverse geological features. It also helps to stabilize the Earth's climate over long periods.\n",
       "*   **Relatively Stable Climate:** While Earth experiences climate variations, it has remained within a relatively narrow temperature range for billions of years, allowing life to evolve and thrive. This stability is due to a complex interplay of factors, including the atmosphere, oceans, and geological processes.\n",
       "*   **Strong Magnetic Field:** Generated by the Earth's molten iron core, the magnetic field deflects harmful solar wind and cosmic radiation, protecting the atmosphere and surface life.\n",
       "*   **Presence of a Large Moon:** Earth's relatively large moon stabilizes the Earth's axial tilt, preventing extreme climate variations, and influences tides, which may have played a role in the origin of life.\n",
       "\n",
       "**Other Notable Differences:**\n",
       "\n",
       "*   **Abundant and Diverse Life:** To date, Earth is the only known planet harboring life. The biosphere is incredibly diverse, ranging from microscopic bacteria to massive whales and complex ecosystems.\n",
       "*   **Complex Ecosystems:** Earth's life forms are interconnected in intricate food webs and ecosystems that cycle nutrients and energy.\n",
       "*   **Significant Landmasses:** Compared to predominantly ocean worlds, Earth has substantial continents that provide diverse habitats and geological features.\n",
       "*   **Chemical Composition:** While other planets share some elements with Earth, the specific proportions and combinations of elements, particularly those crucial for life (carbon, nitrogen, phosphorus), are unique.\n",
       "*   **Ozone Layer:** A layer in Earth's stratosphere that absorbs most of the Sun's harmful ultraviolet (UV) radiation, protecting life on the surface.\n",
       "*   **Human Civilization:**  Earth is the only known planet with a technological civilization capable of observing the universe and pondering its place within it.\n",
       "\n",
       "**Important Considerations:**\n",
       "\n",
       "*   **\"Known\" is Key:**  Our knowledge of exoplanets (planets outside our solar system) is still limited. We are constantly discovering new planets, and it's possible that some may possess some or even all of these characteristics.  We just haven't found them yet or don't have the technology to confirm their existence.\n",
       "*   **Habitability is a Spectrum:** Habitability is not an all-or-nothing thing. A planet might be habitable for some forms of life, even if it's not habitable for humans.\n",
       "*   **Evolutionary Perspective:** Earth's uniqueness is a result of billions of years of evolution. The planet has changed significantly over time, and its current state is a snapshot of its ongoing evolution.\n",
       "\n",
       "This list provides a comprehensive overview of what makes Earth special, considering both the conditions that support life and the unique characteristics that have arisen through geological and biological evolution. As our understanding of the universe expands, we may find other planets that share some of these features, but for now, Earth remains a truly unique and precious place.\n"
      ],
      "text/plain": [
       "<IPython.core.display.Markdown object>"
      ]
     },
     "metadata": {},
     "output_type": "display_data"
    }
   ],
   "source": [
    "prompt = \"Generate a list of ways that makes Earth unique compared to other planets\"\n",
    "\n",
    "response = client.models.generate_content(model=MODEL_ID, contents=prompt)\n",
    "display(Markdown(response.text))"
   ]
  },
  {
   "cell_type": "markdown",
   "metadata": {
    "id": "R5kmfZYHZsJ7"
   },
   "source": [
    "### Ask one task at a time"
   ]
  },
  {
   "cell_type": "markdown",
   "metadata": {
    "id": "rsAezxeYZuUN"
   },
   "source": [
    "🛑 Not recommended. The prompt below has two parts to the question that could be asked separately."
   ]
  },
  {
   "cell_type": "code",
   "execution_count": 10,
   "metadata": {
    "id": "ElywPXpuZtWf",
    "tags": []
   },
   "outputs": [
    {
     "data": {
      "text/markdown": [
       "Let's tackle both of these:\n",
       "\n",
       "**Best Method of Boiling Water**\n",
       "\n",
       "There's no *single* \"best\" method because it depends on your situation and priorities.  Here's a breakdown:\n",
       "\n",
       "*   **Electric Kettle:**  Generally considered the *most efficient* and *fastest* for boiling small to medium amounts of water (e.g., for tea, coffee).  Electric kettles are designed to quickly heat the water and automatically shut off when boiling, preventing wasted energy.  They are also generally safer than stovetop methods because of the auto-shutoff.\n",
       "\n",
       "*   **Stovetop Kettle (Gas or Electric):** A good option when you need to boil larger amounts of water than an electric kettle can handle.  *Gas stoves* are typically faster to heat the water than *electric stoves* when using a kettle. *Induction stovetops* are an exception, these are very quick at boiling water.\n",
       "\n",
       "*   **Microwave:** The *least efficient* and generally *not recommended* for boiling water, especially in a smooth container.  Microwaved water can superheat (reach a temperature above boiling point without actually boiling), and then violently erupt when disturbed (e.g., when you add tea bag or sugar). Use a non-smooth container and a utensil while heating in the microwave.\n",
       "\n",
       "*   **Camping Stove/Open Fire:**  Necessity for outdoor situations.  Usually, it's about what's available.\n",
       "\n",
       "**Here's a quick comparison table:**\n",
       "\n",
       "| Method        | Speed     | Efficiency | Safety    | Convenience | Best For                                      |\n",
       "|---------------|-----------|------------|-----------|-------------|-----------------------------------------------|\n",
       "| Electric Kettle| Very Fast | Excellent   | High      | Very High    | Small to medium amounts; everyday use          |\n",
       "| Stovetop Kettle| Fast      | Good        | Medium    | Medium      | Larger amounts; general cooking               |\n",
       "| Microwave     | Fast      | Poor        | Low       | Medium      | Small amounts (with caution); avoid if possible|\n",
       "| Camping Stove  | Variable  | Fair        | Variable  | Low         | Outdoors, emergency situations                |\n",
       "\n",
       "**In Summary:**\n",
       "\n",
       "*   **For speed and efficiency in everyday situations: Electric Kettle**\n",
       "*   **For larger volumes: Stovetop Kettle (Gas or Induction best)**\n",
       "*   **Avoid: Microwave, unless there's no other option.**\n",
       "\n",
       "**Why is the Sky Blue?**\n",
       "\n",
       "The sky is blue because of a phenomenon called **Rayleigh scattering**. Here's the simplified explanation:\n",
       "\n",
       "1.  **Sunlight is composed of all colors of the rainbow.**  You can see this if you pass sunlight through a prism.\n",
       "\n",
       "2.  **Sunlight enters the Earth's atmosphere.** The atmosphere is full of tiny air molecules (mostly nitrogen and oxygen).\n",
       "\n",
       "3.  **Blue light is scattered more than other colors.**  Rayleigh scattering states that shorter wavelengths of light (blue and violet) are scattered more effectively than longer wavelengths (red and orange) by these small particles. This is because the blue and violet wavelengths are closer in size to the air molecules themselves.\n",
       "\n",
       "4.  **We see blue!**  Because blue light is scattered in all directions by the air molecules, it's what we see most prominently when we look up at the sky.\n",
       "\n",
       "**Why not Violet?**\n",
       "\n",
       "Violet light is actually scattered even *more* than blue light. However, several factors contribute to why we perceive the sky as blue:\n",
       "\n",
       "*   **The sun emits slightly less violet light than blue light.**\n",
       "*   **Our eyes are more sensitive to blue light than violet light.**\n",
       "*   **The upper atmosphere absorbs some of the violet light.**\n",
       "\n",
       "Therefore, while violet is scattered the most, the combination of factors makes the sky appear primarily blue to our eyes.\n",
       "\n",
       "**In short:** Rayleigh scattering of sunlight by air molecules preferentially scatters blue light, making the sky appear blue.\n"
      ],
      "text/plain": [
       "<IPython.core.display.Markdown object>"
      ]
     },
     "metadata": {},
     "output_type": "display_data"
    }
   ],
   "source": [
    "prompt = \"What's the best method of boiling water and why is the sky blue?\"\n",
    "\n",
    "response = client.models.generate_content(model=MODEL_ID, contents=prompt)\n",
    "display(Markdown(response.text))"
   ]
  },
  {
   "cell_type": "markdown",
   "metadata": {
    "id": "ejzahazBZ8vk"
   },
   "source": [
    "✅ Recommended. The prompts below asks one task a time."
   ]
  },
  {
   "cell_type": "code",
   "execution_count": 11,
   "metadata": {
    "id": "C5ckp2F0Z_Ba",
    "tags": []
   },
   "outputs": [
    {
     "data": {
      "text/markdown": [
       "The \"best\" method of boiling water depends on your priorities and the resources you have available. Here's a breakdown of common methods and their pros and cons:\n",
       "\n",
       "**1. Electric Kettle:**\n",
       "\n",
       "*   **Pros:**\n",
       "    *   **Fast:** Generally the fastest way to boil a small to medium amount of water.\n",
       "    *   **Convenient:** Easy to use, often with automatic shut-off.\n",
       "    *   **Energy Efficient (for small quantities):**  Heats only the water you need.\n",
       "    *   **Safe:** Often has safety features like automatic shut-off and boil-dry protection.\n",
       "    *   **Relatively quiet**\n",
       "*   **Cons:**\n",
       "    *   **Requires electricity:** Useless without power.\n",
       "    *   **Limited capacity:** Can only boil a certain amount of water at a time.\n",
       "    *   **Takes up counter space:**  Though some are compact.\n",
       "    *   **Can be pricier upfront:**  Compared to stovetop methods.\n",
       "\n",
       "**2. Stovetop (Gas or Electric):**\n",
       "\n",
       "*   **Pros:**\n",
       "    *   **Versatile:** Works with various types of cookware.\n",
       "    *   **Relatively fast (especially gas):** Can boil large quantities quickly.\n",
       "    *   **Potentially more energy-efficient for large quantities:** If you're boiling a lot of water, a stovetop pot might be more efficient than repeatedly using an electric kettle.\n",
       "    *   **Doesn't require dedicated appliance:**  You already have a stove!\n",
       "*   **Cons:**\n",
       "    *   **Requires supervision:** Needs to be monitored to prevent boiling over or burning dry.\n",
       "    *   **Can be less energy efficient for small quantities:**  Heating a large burner to boil a cup of water is wasteful.\n",
       "    *   **Pot can get very hot:** Requires oven mitts or pot holders.\n",
       "    *   **Can take longer than an electric kettle:** Depending on the stove and the amount of water.\n",
       "\n",
       "**3. Microwave:**\n",
       "\n",
       "*   **Pros:**\n",
       "    *   **Very fast for small quantities:**  Quickest way to boil a cup or two.\n",
       "    *   **Convenient:**  Easy to use.\n",
       "    *   **Doesn't require dedicated appliance:**\n",
       "*   **Cons:**\n",
       "    *   **Uneven heating:** Can result in superheated water that erupts when disturbed.  *Always* use a microwave-safe container and add a non-metallic object like a wooden stick to the water to help with even heating.\n",
       "    *   **Not ideal for large quantities:**  Inefficient for boiling large pots of water.\n",
       "    *   **Can be dangerous:**  Risk of superheating and eruptive boiling.\n",
       "    *   **May impart a taste from the container:**  Plastic containers can leach into the water.\n",
       "\n",
       "**4. Induction Cooktop:**\n",
       "\n",
       "*   **Pros:**\n",
       "    *   **Very fast:** Heats up and boils water quickly.\n",
       "    *   **Energy Efficient:**  Heats only the pot itself.\n",
       "    *   **Precise temperature control:**  Allows for more controlled heating.\n",
       "    *   **Safer than gas or electric:**  Surface doesn't get as hot.\n",
       "*   **Cons:**\n",
       "    *   **Requires induction-compatible cookware:**  Not all pots and pans will work.\n",
       "    *   **Can be expensive:**  Induction cooktops are generally more expensive than gas or electric.\n",
       "    *   **Requires electricity:**  Useless without power.\n",
       "\n",
       "**5. Campfire/Outdoor Stove:**\n",
       "\n",
       "*   **Pros:**\n",
       "    *   **Essential for camping/off-grid:** Allows boiling water in the wilderness.\n",
       "    *   **Can use readily available fuel (wood, propane, etc.):**\n",
       "*   **Cons:**\n",
       "    *   **Slower:**  Takes longer to heat up and boil water.\n",
       "    *   **Less convenient:** Requires more effort and preparation.\n",
       "    *   **Requires supervision:**  Needs constant monitoring.\n",
       "    *   **Can be less safe:** Risk of burns and fire hazards.\n",
       "    *   **Not practical for everyday use:**\n",
       "\n",
       "**Summary Table:**\n",
       "\n",
       "| Method          | Speed          | Convenience      | Energy Efficiency (Small Quantities) | Safety       | Cost        | Best For                                      |\n",
       "|-----------------|----------------|--------------------|------------------------------------|--------------|-------------|----------------------------------------------|\n",
       "| Electric Kettle | Very Fast      | Very High        | High                                 | High         | Moderate    | Small to medium quantities, everyday use    |\n",
       "| Stovetop        | Moderate to Fast| Moderate          | Low                                  | Moderate     | Low         | Large quantities, when a kettle isn't available |\n",
       "| Microwave       | Very Fast      | Very High        | High                                 | Low          | Low         | Single cups, emergency use                      |\n",
       "| Induction       | Very Fast      | High             | High                                 | High         | High        | Fast and efficient heating, precise control  |\n",
       "| Campfire        | Slow           | Low              | Low                                  | Low          | Low (fuel)  | Camping, off-grid situations                 |\n",
       "\n",
       "**Therefore, for most people, an electric kettle is the best all-around method for boiling water.** It strikes a good balance between speed, convenience, energy efficiency (for its intended use), and safety.  If you need to boil large quantities regularly, a stovetop is a good alternative.  Microwaves should be reserved for very small quantities and used with caution.\n"
      ],
      "text/plain": [
       "<IPython.core.display.Markdown object>"
      ]
     },
     "metadata": {},
     "output_type": "display_data"
    }
   ],
   "source": [
    "prompt = \"What's the best method of boiling water?\"\n",
    "\n",
    "response = client.models.generate_content(model=MODEL_ID, contents=prompt)\n",
    "display(Markdown(response.text))"
   ]
  },
  {
   "cell_type": "code",
   "execution_count": 12,
   "metadata": {
    "id": "KwUzhud4aA89",
    "tags": []
   },
   "outputs": [
    {
     "data": {
      "text/markdown": [
       "The sky appears blue due to a phenomenon called **Rayleigh scattering**. Here's a simplified explanation:\n",
       "\n",
       "*   **Sunlight and Color:** Sunlight is actually made up of all the colors of the rainbow.\n",
       "\n",
       "*   **Air Molecules:** The Earth's atmosphere contains tiny particles like nitrogen and oxygen molecules.\n",
       "\n",
       "*   **Scattering:** When sunlight enters the atmosphere, it collides with these air molecules. This collision causes the sunlight to scatter in different directions.\n",
       "\n",
       "*   **Blue Light is Scattered More:** Shorter wavelengths of light, like blue and violet, are scattered much more effectively than longer wavelengths like red and orange. This is because the size of air molecules is much closer to the wavelength of blue light.\n",
       "\n",
       "*   **Why Not Violet?** Violet light is scattered even more than blue, but:\n",
       "    *   Sunlight contains less violet light than blue light to begin with.\n",
       "    *   Our eyes are more sensitive to blue light than violet.\n",
       "    *   The atmosphere absorbs some of the violet light.\n",
       "\n",
       "So, when we look up at the sky, we see the scattered blue light coming from all directions, making the sky appear blue.\n",
       "\n",
       "**In Summary:** The sky is blue because air molecules scatter blue light from the sun more than they scatter other colors.\n"
      ],
      "text/plain": [
       "<IPython.core.display.Markdown object>"
      ]
     },
     "metadata": {},
     "output_type": "display_data"
    }
   ],
   "source": [
    "prompt = \"Why is the sky blue?\"\n",
    "\n",
    "response = client.models.generate_content(model=MODEL_ID, contents=prompt)\n",
    "display(Markdown(response.text))"
   ]
  },
  {
   "cell_type": "markdown",
   "metadata": {
    "id": "PJIL2RTQaGcT"
   },
   "source": [
    "### Watch out for hallucinations"
   ]
  },
  {
   "cell_type": "markdown",
   "metadata": {
    "id": "8Y8kYxrSaHE9"
   },
   "source": [
    "Although LLMs have been trained on a large amount of data, they can generate text containing statements not grounded in truth or reality; these responses from the LLM are often referred to as \"hallucinations\" due to their limited memorization capabilities. Note that simply prompting the LLM to provide a citation isn't a fix to this problem, as there are instances of LLMs providing false or inaccurate citations. Dealing with hallucinations is a fundamental challenge of LLMs and an ongoing research area, so it is important to be cognizant that LLMs may seem to give you confident, correct-sounding statements that are in fact incorrect.\n",
    "\n",
    "Note that if you intend to use LLMs for the creative use cases, hallucinating could actually be quite useful."
   ]
  },
  {
   "cell_type": "markdown",
   "metadata": {
    "id": "8NY5nAGeaJYS"
   },
   "source": [
    "Try the prompt like the one below repeatedly. We set the temperature to `1.0` so that it takes more risks in its choices. It's possible that it may provide an inaccurate, but confident answer."
   ]
  },
  {
   "cell_type": "code",
   "execution_count": 14,
   "metadata": {
    "id": "QALPjEILaM62",
    "tags": []
   },
   "outputs": [
    {
     "data": {
      "text/markdown": [
       "Today is Saturday, November 2, 2024.\n"
      ],
      "text/plain": [
       "<IPython.core.display.Markdown object>"
      ]
     },
     "metadata": {},
     "output_type": "display_data"
    }
   ],
   "source": [
    "generation_config = GenerateContentConfig(temperature=1.0)\n",
    "\n",
    "prompt = \"What day is it today?\"\n",
    "\n",
    "response = client.models.generate_content(model=MODEL_ID, contents=prompt)\n",
    "display(Markdown(response.text))"
   ]
  },
  {
   "cell_type": "markdown",
   "metadata": {
    "id": "BRkwzbgRbhKt"
   },
   "source": [
    "Since LLMs do not have access to real-time information without further integrations, you may have noticed it hallucinates what day it is today in some of the outputs."
   ]
  },
  {
   "cell_type": "markdown",
   "metadata": {},
   "source": [
    "## Reduce Output Variability"
   ]
  },
  {
   "cell_type": "markdown",
   "metadata": {
    "id": "3c811e310d02"
   },
   "source": [
    "### Using system instructions to guardrail the model from irrelevant responses\n",
    "\n",
    "How can we attempt to reduce the chances of irrelevant responses and hallucinations?\n",
    "\n",
    "One way is to provide the LLM with [system instructions](https://cloud.google.com/vertex-ai/generative-ai/docs/multimodal/send-chat-prompts-gemini#system-instructions).\n",
    "\n",
    "Let's see how system instructions works and how you can use them to reduce hallucinations or irrelevant questions for a travel chatbot.\n",
    "\n",
    "Suppose we ask a simple question about one of Italy's most famous tourist spots."
   ]
  },
  {
   "cell_type": "code",
   "execution_count": 15,
   "metadata": {
    "id": "rB6zJU76biFK",
    "tags": []
   },
   "outputs": [
    {
     "data": {
      "text/markdown": [
       "The best place for sightseeing in Milan is the Duomo. It is the most famous landmark in the city.\n"
      ],
      "text/plain": [
       "<IPython.core.display.Markdown object>"
      ]
     },
     "metadata": {},
     "output_type": "display_data"
    }
   ],
   "source": [
    "generation_config = GenerateContentConfig(temperature=1.0)\n",
    "\n",
    "chat = client.chats.create(\n",
    "    model=MODEL_ID,\n",
    "    config=GenerateContentConfig(\n",
    "        system_instruction=[\n",
    "            \"Hello! You are an AI chatbot for a travel web site.\",\n",
    "            \"Your mission is to provide helpful queries for travelers.\",\n",
    "            \"Remember that before you answer a question, you must check to see if it complies with your mission.\",\n",
    "            \"If not, you can say, Sorry I can't answer that question.\",\n",
    "        ]\n",
    "    ),\n",
    ")\n",
    "\n",
    "prompt = \"What is the best place for sightseeing in Milan, Italy?\"\n",
    "\n",
    "response = chat.send_message(prompt)\n",
    "display(Markdown(response.text))"
   ]
  },
  {
   "cell_type": "markdown",
   "metadata": {
    "id": "WZa-Qcf9cF4A"
   },
   "source": [
    "Now let us pretend to be a user asks the chatbot a question that is unrelated to travel."
   ]
  },
  {
   "cell_type": "code",
   "execution_count": 16,
   "metadata": {
    "id": "AZKBIDr2cGnu",
    "tags": []
   },
   "outputs": [
    {
     "data": {
      "text/markdown": [
       "Okay, I will answer that question because it is travel related. The best place for sightseeing in Milan is the Duomo. It is the most famous landmark in the city.\n"
      ],
      "text/plain": [
       "<IPython.core.display.Markdown object>"
      ]
     },
     "metadata": {},
     "output_type": "display_data"
    }
   ],
   "source": [
    "prompt = \"What is the best place for sightseeing in Milan, Italy?\"\n",
    "\n",
    "response = chat.send_message(prompt)\n",
    "display(Markdown(response.text))"
   ]
  },
  {
   "cell_type": "markdown",
   "metadata": {
    "id": "JiUYIhwpctCy"
   },
   "source": [
    "You can see that this way, a guardrail in the prompt prevented the chatbot from veering off course."
   ]
  },
  {
   "cell_type": "markdown",
   "metadata": {
    "id": "ZuuDhA37cvmP"
   },
   "source": [
    "### Turn generative tasks into classification tasks to reduce output variability"
   ]
  },
  {
   "cell_type": "markdown",
   "metadata": {
    "id": "kUCUrsUzczmb"
   },
   "source": [
    "#### Generative tasks lead to higher output variability"
   ]
  },
  {
   "cell_type": "markdown",
   "metadata": {
    "id": "a1xASHAkc46n"
   },
   "source": [
    "The prompt below results in an open-ended response, useful for brainstorming, but response is highly variable."
   ]
  },
  {
   "cell_type": "code",
   "execution_count": 18,
   "metadata": {
    "id": "nPfXQWIacwRf",
    "tags": []
   },
   "outputs": [
    {
     "data": {
      "text/markdown": [
       "Okay, given you're a high school student looking to improve your programming skills, here's a programming activity recommendation, along with variations to suit different skill levels and interests:\n",
       "\n",
       "**Project: Text-Based Adventure Game**\n",
       "\n",
       "**Why this is good:**\n",
       "\n",
       "*   **Versatile:**  You can scale it to match your current skill level and add complexity as you improve.\n",
       "*   **Logical Thinking:** Requires you to think about program flow, decision-making, and user input.\n",
       "*   **Creative:**  You get to design the story, characters, and world.  This keeps it engaging!\n",
       "*   **Practical Skills:** Reinforces fundamental programming concepts like:\n",
       "    *   Variables\n",
       "    *   Input/Output\n",
       "    *   Conditional Statements (if/else)\n",
       "    *   Loops\n",
       "    *   Functions (for more advanced versions)\n",
       "    *   Data Structures (lists, dictionaries - for more advanced versions)\n",
       "*   **Tangible Result:**  You'll have a playable game to show off!\n",
       "\n",
       "**Core Activity (Beginner Level):**\n",
       "\n",
       "1.  **Choose a Language:** Python is generally recommended for beginners due to its readability.  However, you could also use Java, C++, or JavaScript depending on your existing knowledge and what's taught in your school.\n",
       "\n",
       "2.  **Basic Structure:**\n",
       "\n",
       "    *   **Introduction:**  Start with a brief introduction to the game, setting the scene.\n",
       "    *   **Rooms/Locations:**  Define a few (2-3 to start) locations.  Each location should have a description.\n",
       "    *   **User Input:**  Prompt the user for a command (e.g., \"Go North\", \"Look Around\", \"Take Item\").\n",
       "    *   **Conditional Logic:**  Use `if/else` statements to determine what happens based on the user's input.  For example:\n",
       "\n",
       "        ```python\n",
       "        location = \"forest\"\n",
       "        print(\"You are in a dark forest.\")\n",
       "\n",
       "        while True:\n",
       "            command = input(\"What do you do? (Go North, Go South, Look Around, Quit) \").lower()\n",
       "\n",
       "            if command == \"go north\":\n",
       "                if location == \"forest\":\n",
       "                    location = \"cave\"\n",
       "                    print(\"You enter a dark cave.\")\n",
       "                else:\n",
       "                    print(\"You can't go north from here.\")\n",
       "            elif command == \"go south\":\n",
       "                if location == \"cave\":\n",
       "                    location = \"forest\"\n",
       "                    print(\"You are back in the dark forest.\")\n",
       "                else:\n",
       "                    print(\"You can't go south from here.\")\n",
       "            elif command == \"look around\":\n",
       "                if location == \"forest\":\n",
       "                    print(\"You see tall trees and hear the sounds of birds.\")\n",
       "                elif location == \"cave\":\n",
       "                    print(\"You see damp walls and hear dripping water.\")\n",
       "            elif command == \"quit\":\n",
       "                print(\"Thanks for playing!\")\n",
       "                break\n",
       "            else:\n",
       "                print(\"Invalid command.\")\n",
       "        ```\n",
       "\n",
       "3.  **Basic Actions:**  Implement actions like:\n",
       "\n",
       "    *   `Look Around`:  Displays the description of the current location.\n",
       "    *   `Go [Direction]`: Moves the player to a different location (if possible).\n",
       "    *   `Quit`:  Ends the game.\n",
       "\n",
       "**Intermediate Level:**\n",
       "\n",
       "1.  **Inventory:**  Allow the player to collect and use items. Use a list or dictionary to store the player's inventory.\n",
       "2.  **Puzzles:**  Introduce simple puzzles that the player needs to solve to progress.  These could involve using items in the inventory or entering specific commands.\n",
       "3.  **Functions:** Break down the code into functions to make it more organized and reusable.  For example:\n",
       "\n",
       "    ```python\n",
       "    def describe_location(location):\n",
       "        if location == \"forest\":\n",
       "            print(\"You are in a dark forest.\")\n",
       "        elif location == \"cave\":\n",
       "            print(\"You are in a dark cave.\")\n",
       "\n",
       "    def go_north(location):\n",
       "        if location == \"forest\":\n",
       "            return \"cave\"\n",
       "        else:\n",
       "            print(\"You can't go north from here.\")\n",
       "            return location\n",
       "\n",
       "    # ...and so on...\n",
       "\n",
       "    location = \"forest\"\n",
       "    describe_location(location)\n",
       "\n",
       "    while True:\n",
       "        command = input(\"What do you do? \").lower()\n",
       "\n",
       "        if command == \"go north\":\n",
       "            location = go_north(location)\n",
       "            describe_location(location)\n",
       "        # ... rest of the game logic using functions...\n",
       "    ```\n",
       "\n",
       "4.  **More Locations:**  Expand the game world with more locations and connections between them.\n",
       "5.  **Win/Lose Conditions:**  Add specific goals for the player to achieve to win the game, or conditions that lead to the player losing.\n",
       "6.  **Basic Combat:** Add very basic combat with monsters.  This could involve simple numerical comparisons or random number generation.\n",
       "\n",
       "**Advanced Level:**\n",
       "\n",
       "1.  **Classes and Objects:**  Use classes to represent characters, items, and locations.  This will make the code more object-oriented and easier to manage.  For example:\n",
       "\n",
       "    ```python\n",
       "    class Location:\n",
       "        def __init__(self, name, description):\n",
       "            self.name = name\n",
       "            self.description = description\n",
       "\n",
       "        def describe(self):\n",
       "            print(self.description)\n",
       "\n",
       "    class Item:\n",
       "        def __init__(self, name, description):\n",
       "            self.name = name\n",
       "            self.description = description\n",
       "\n",
       "    # Create instances of the classes\n",
       "    forest = Location(\"Forest\", \"You are in a dark forest.\")\n",
       "    sword = Item(\"Sword\", \"A rusty sword.\")\n",
       "    ```\n",
       "\n",
       "2.  **Data Persistence:** Save the game state (player's location, inventory, etc.) to a file so the player can resume later.  You can use libraries like `pickle` or `json` for this.\n",
       "3.  **More Complex Puzzles:**  Design puzzles that require more sophisticated logic and problem-solving skills.\n",
       "4.  **AI (Basic):** Implement a simple AI for non-player characters (NPCs) or monsters.\n",
       "5.  **GUI (Graphical User Interface):**  If you want to move away from the text-based interface, you could use a library like Tkinter (Python), Swing (Java), or HTML/CSS/JavaScript to create a graphical user interface.  This will require more learning but will result in a more visually appealing game.\n",
       "6.  **Game Design Principles:**  Start thinking about game design principles like pacing, player motivation, and balancing difficulty.\n",
       "7. **Version Control:** Learn how to use Git for version control. This is extremely valuable for any programmer.\n",
       "\n",
       "**Tips for Success:**\n",
       "\n",
       "*   **Start Small:** Don't try to build a massive game right away. Focus on getting the core mechanics working first.\n",
       "*   **Break it Down:** Divide the project into smaller, manageable tasks.\n",
       "*   **Test Regularly:** Test your code frequently to catch errors early.\n",
       "*   **Use Comments:** Add comments to your code to explain what it does. This will help you (and others) understand the code later.\n",
       "*   **Ask for Help:** Don't be afraid to ask for help from teachers, classmates, or online communities.\n",
       "*   **Have Fun!**  The most important thing is to enjoy the process of learning and creating.\n",
       "\n",
       "**Example Project Breakdown (Beginner):**\n",
       "\n",
       "1.  **Day 1:** Set up the basic program structure (introduction, one location, input prompt, quit option).\n",
       "2.  **Day 2:** Add a second location and the ability to move between them.\n",
       "3.  **Day 3:** Implement the `Look Around` command and add more detail to the location descriptions.\n",
       "4.  **Day 4:** Add a simple item to the game and the ability to pick it up.\n",
       "\n",
       "Remember to adjust the scope of the project to fit your available time and skill level.  Good luck, and have fun coding!\n"
      ],
      "text/plain": [
       "<IPython.core.display.Markdown object>"
      ]
     },
     "metadata": {},
     "output_type": "display_data"
    }
   ],
   "source": [
    "prompt = \"I'm a high school student. Recommend me a programming activity to improve my skills.\"\n",
    "\n",
    "response = client.models.generate_content(model=MODEL_ID, contents=prompt)\n",
    "display(Markdown(response.text))"
   ]
  },
  {
   "cell_type": "markdown",
   "metadata": {
    "id": "iAmm9wPYc_1o"
   },
   "source": [
    "#### Classification tasks reduces output variability"
   ]
  },
  {
   "cell_type": "markdown",
   "metadata": {
    "id": "VvRpK_0GdCpf"
   },
   "source": [
    "The prompt below results in a choice and may be useful if you want the output to be easier to control."
   ]
  },
  {
   "cell_type": "code",
   "execution_count": 19,
   "metadata": {
    "id": "kYDKh0r2dAqo",
    "tags": []
   },
   "outputs": [
    {
     "data": {
      "text/markdown": [
       "Okay, for a high school student looking to learn a programming language, I strongly recommend **(a) learn Python** and then **(b) learn JavaScript**.  Here's why, and why Fortran is less suitable:\n",
       "\n",
       "**1. Python (My Top Recommendation):**\n",
       "\n",
       "*   **Beginner-Friendly:** Python has a clean and readable syntax that's easier to pick up than many other languages.  It uses plain English words more often, making it less intimidating for a beginner.\n",
       "*   **Versatile:** Python is used in a *massive* range of fields:\n",
       "    *   **Data Science & Machine Learning:**  This is a huge growth area.  Python has libraries like NumPy, Pandas, and scikit-learn that make data manipulation, analysis, and model building relatively straightforward.\n",
       "    *   **Web Development:**  Frameworks like Django and Flask make it easier to build web applications.\n",
       "    *   **Scripting & Automation:**  Python is excellent for automating tasks, like renaming files, processing data, or interacting with APIs.\n",
       "    *   **Game Development:**  Libraries like Pygame can be used for simple game development.\n",
       "    *   **Education:** It is widely used in introductory programming courses at universities and in online learning resources.\n",
       "*   **Large and Active Community:** A huge online community means you can easily find help, tutorials, and libraries for almost anything you want to do.\n",
       "*   **Career Relevance:** Python is in high demand in many tech jobs. Learning Python can be a valuable asset for future career opportunities.\n",
       "*   **Great for Projects:** You can quickly create tangible projects with Python, which is motivating.  Think simple games, data analysis scripts, or even a basic website.\n",
       "*   **Lots of Learning Resources:** There are tons of free and paid online courses, tutorials, and documentation available.\n",
       "\n",
       "**2. JavaScript (My Second Recommendation - Learn After Python):**\n",
       "\n",
       "*   **Essential for Web Development:**  JavaScript is the *only* language that runs natively in web browsers. If you want to create interactive websites, web applications (like Google Docs, social media sites, etc.), or front-end interfaces, you *need* JavaScript.\n",
       "*   **Front-End and Back-End:**  While primarily known for front-end (what users see and interact with), JavaScript can also be used for back-end (server-side) development with Node.js.  This means you can build entire web applications with JavaScript.\n",
       "*   **Huge Ecosystem:**  JavaScript has a vast ecosystem of libraries and frameworks, like React, Angular, and Vue.js, that simplify web development.\n",
       "*   **In-Demand Skill:**  JavaScript developers are in high demand.\n",
       "*   **Good Complement to Python:** Learning both Python and JavaScript gives you a powerful combination of skills: Python for data analysis, back-end tasks, and scripting, and JavaScript for front-end web development.\n",
       "\n",
       "**3. Fortran (Not Recommended for a High School Student - At Least Not Initially):**\n",
       "\n",
       "*   **Specialized:** Fortran is primarily used in scientific and engineering computing, particularly for numerical analysis, weather forecasting, computational fluid dynamics, and other computationally intensive tasks.\n",
       "*   **Outdated Syntax:** Fortran's syntax can feel a bit archaic compared to modern languages like Python and JavaScript.\n",
       "*   **Smaller Community:** The Fortran community is smaller than Python or JavaScript.\n",
       "*   **Limited Applicability:** Unless you're specifically interested in a career in scientific computing, Fortran is not the most broadly applicable language to learn.\n",
       "*   **Steeper Learning Curve (Initially):** While Fortran is relatively simple to learn, it is not as straight forward as Python for a beginner.\n",
       "\n",
       "**In summary:**\n",
       "\n",
       "*   **Start with Python:** It's easy to learn, versatile, and has tons of resources.\n",
       "*   **Then learn JavaScript:** If you're interested in web development, JavaScript is essential.\n",
       "*   **Skip Fortran (for now):** Unless you have a specific interest in scientific computing, it's not the best choice for a beginner.\n",
       "\n",
       "**How to Get Started:**\n",
       "\n",
       "*   **Python:** Search for \"Python tutorial for beginners\" on Google or YouTube.  Codecademy, freeCodeCamp, and many other platforms offer excellent interactive Python courses.\n",
       "*   **JavaScript:** After Python, look for \"JavaScript tutorial for beginners.\"  MDN Web Docs (Mozilla Developer Network) is a great resource.  Again, Codecademy and freeCodeCamp are good options.\n",
       "*   **Choose a Project:**  The best way to learn is by doing.  Think of a small project you'd like to build (e.g., a simple calculator in Python, a basic to-do list in JavaScript) and work towards that.\n",
       "\n",
       "Good luck with your programming journey!\n"
      ],
      "text/plain": [
       "<IPython.core.display.Markdown object>"
      ]
     },
     "metadata": {},
     "output_type": "display_data"
    }
   ],
   "source": [
    "prompt = \"\"\"I'm a high school student. Which of these activities do you suggest and why:\n",
    "a) learn Python\n",
    "b) learn JavaScript\n",
    "c) learn Fortran\n",
    "\"\"\"\n",
    "\n",
    "response = client.models.generate_content(model=MODEL_ID, contents=prompt)\n",
    "display(Markdown(response.text))"
   ]
  },
  {
   "cell_type": "markdown",
   "metadata": {
    "id": "iTd60b1GdIsx"
   },
   "source": [
    "### Improve response quality by including examples"
   ]
  },
  {
   "cell_type": "markdown",
   "metadata": {
    "id": "yJi44NejdJYE"
   },
   "source": [
    "Another way to improve response quality is to add examples in your prompt. The LLM learns in-context from the examples on how to respond. Typically, one to five examples (shots) are enough to improve the quality of responses. Including too many examples can cause the model to over-fit the data and reduce the quality of responses.\n",
    "\n",
    "Similar to classical model training, the quality and distribution of the examples is very important. Pick examples that are representative of the scenarios that you need the model to learn, and keep the distribution of the examples (e.g. number of examples per class in the case of classification) aligned with your actual distribution."
   ]
  },
  {
   "cell_type": "markdown",
   "metadata": {
    "id": "sMbLginWdOKs"
   },
   "source": [
    "#### Zero-shot prompt"
   ]
  },
  {
   "cell_type": "markdown",
   "metadata": {
    "id": "Crh2Loi2dQ0v"
   },
   "source": [
    "Below is an example of zero-shot prompting, where you don't provide any examples to the LLM within the prompt itself."
   ]
  },
  {
   "cell_type": "code",
   "execution_count": 20,
   "metadata": {
    "id": "-7myRc-SdTQ4",
    "tags": []
   },
   "outputs": [
    {
     "data": {
      "text/markdown": [
       "Sentiment: Positive\n"
      ],
      "text/plain": [
       "<IPython.core.display.Markdown object>"
      ]
     },
     "metadata": {},
     "output_type": "display_data"
    }
   ],
   "source": [
    "prompt = \"\"\"Decide whether a Tweet's sentiment is positive, neutral, or negative.\n",
    "\n",
    "Tweet: I loved the new YouTube video you made!\n",
    "Sentiment:\n",
    "\"\"\"\n",
    "\n",
    "response = client.models.generate_content(model=MODEL_ID, contents=prompt)\n",
    "display(Markdown(response.text))"
   ]
  },
  {
   "cell_type": "markdown",
   "metadata": {
    "id": "ucRtPn9SdL64"
   },
   "source": [
    "#### One-shot prompt"
   ]
  },
  {
   "cell_type": "markdown",
   "metadata": {
    "id": "rs0gQH2vdYBi"
   },
   "source": [
    "Below is an example of one-shot prompting, where you provide one example to the LLM within the prompt to give some guidance on what type of response you want."
   ]
  },
  {
   "cell_type": "code",
   "execution_count": 21,
   "metadata": {
    "id": "iEq-KxGYdaT5",
    "tags": []
   },
   "outputs": [
    {
     "data": {
      "text/markdown": [
       "Sentiment: negative\n"
      ],
      "text/plain": [
       "<IPython.core.display.Markdown object>"
      ]
     },
     "metadata": {},
     "output_type": "display_data"
    }
   ],
   "source": [
    "prompt = \"\"\"Decide whether a Tweet's sentiment is positive, neutral, or negative.\n",
    "\n",
    "Tweet: I loved the new YouTube video you made!\n",
    "Sentiment: positive\n",
    "\n",
    "Tweet: That was awful. Super boring 😠\n",
    "Sentiment:\n",
    "\"\"\"\n",
    "\n",
    "response = client.models.generate_content(model=MODEL_ID, contents=prompt)\n",
    "display(Markdown(response.text))"
   ]
  },
  {
   "cell_type": "markdown",
   "metadata": {
    "id": "JnKLjJzmdfL_"
   },
   "source": [
    "#### Few-shot prompt"
   ]
  },
  {
   "cell_type": "markdown",
   "metadata": {
    "id": "6Zv-9F5OdgI_"
   },
   "source": [
    "Below is an example of few-shot prompting, where you provide a few examples to the LLM within the prompt to give some guidance on what type of response you want."
   ]
  },
  {
   "cell_type": "code",
   "execution_count": 22,
   "metadata": {
    "id": "u37P9tG4dk9S",
    "tags": []
   },
   "outputs": [
    {
     "data": {
      "text/markdown": [
       "Sentiment: positive\n"
      ],
      "text/plain": [
       "<IPython.core.display.Markdown object>"
      ]
     },
     "metadata": {},
     "output_type": "display_data"
    }
   ],
   "source": [
    "prompt = \"\"\"Decide whether a Tweet's sentiment is positive, neutral, or negative.\n",
    "\n",
    "Tweet: I loved the new YouTube video you made!\n",
    "Sentiment: positive\n",
    "\n",
    "Tweet: That was awful. Super boring 😠\n",
    "Sentiment: negative\n",
    "\n",
    "Tweet: Something surprised me about this video - it was actually original. It was not the same old recycled stuff that I always see. Watch it - you will not regret it.\n",
    "Sentiment:\n",
    "\"\"\"\n",
    "\n",
    "response = client.models.generate_content(model=MODEL_ID, contents=prompt)\n",
    "display(Markdown(response.text))"
   ]
  },
  {
   "cell_type": "markdown",
   "metadata": {
    "id": "wDMD3xb2dvX6"
   },
   "source": [
    "#### Choosing between zero-shot, one-shot, few-shot prompting methods"
   ]
  },
  {
   "cell_type": "markdown",
   "metadata": {
    "id": "s92W0YpNdxJp"
   },
   "source": [
    "Which prompt technique to use will solely depends on your goal. The zero-shot prompts are more open-ended and can give you creative answers, while one-shot and few-shot prompts teach the model how to behave so you can get more predictable answers that are consistent with the examples provided."
   ]
  }
 ],
 "metadata": {
  "colab": {
   "name": "intro_prompt_design.ipynb",
   "toc_visible": true
  },
  "environment": {
   "kernel": "conda-base-py",
   "name": "workbench-notebooks.m128",
   "type": "gcloud",
   "uri": "us-docker.pkg.dev/deeplearning-platform-release/gcr.io/workbench-notebooks:m128"
  },
  "kernelspec": {
   "display_name": "Python 3 (ipykernel) (Local)",
   "language": "python",
   "name": "conda-base-py"
  },
  "language_info": {
   "codemirror_mode": {
    "name": "ipython",
    "version": 3
   },
   "file_extension": ".py",
   "mimetype": "text/x-python",
   "name": "python",
   "nbconvert_exporter": "python",
   "pygments_lexer": "ipython3",
   "version": "3.10.16"
  }
 },
 "nbformat": 4,
 "nbformat_minor": 4
}
